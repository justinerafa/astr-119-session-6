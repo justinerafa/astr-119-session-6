{
 "cells": [
  {
   "cell_type": "markdown",
   "metadata": {},
   "source": [
    "# Making multipanel plots with matplotlib\n",
    "\n",
    "first, we import numpoy and matplotlib as usual"
   ]
  },
  {
   "cell_type": "code",
   "execution_count": null,
   "metadata": {},
   "outputs": [],
   "source": [
    "%matplotlib inline\n",
    "import numpy as np\n",
    "import matplotlib.pyplot as plt"
   ]
  },
  {
   "cell_type": "markdown",
   "metadata": {},
   "source": [
    "Then we define an array of angles, and their sines and cosines using numpy. This time we will use linspace"
   ]
  },
  {
   "cell_type": "code",
   "execution_count": null,
   "metadata": {},
   "outputs": [],
   "source": [
    "x = np.linspace(0,2*np.pi,100)\n",
    "print(x[-1], 2*np.pi)\n",
    "\n",
    "y = np.sin(x)\n",
    "z = np.cos(x)\n",
    "w = np.sin(4*x)\n",
    "v = np.cos(4*x)"
   ]
  },
  {
   "cell_type": "code",
   "execution_count": null,
   "metadata": {},
   "outputs": [],
   "source": [
    "#call subplots to generate a multipanel figure. This means 1 row, 2 columns of figures \n",
    "f, axarr = plt.subplots(1,2)   \n",
    "\n",
    "#treat axarr as an array. from left to right \n",
    "\n",
    "#firs panel \n",
    "axarr[0].plot(x,y)\n",
    "axarr[0].set_xlabel('x')\n",
    "axarr[0].set_ylabel('sin(x)')\n",
    "axarr[0].set_title(r'$\\sin(x)$')\n",
    "\n",
    "axarr[1].plot(x,z)\n",
    "axarr[1].set_xlabel('x')\n",
    "axarr[1].set_ylabel('cos(x)')\n",
    "axarr[1].set_title(r'$\\cos(x)$')\n",
    "\n",
    "#add more space between the figures \n",
    "f.subplots_adjust(wspace=0.5)\n",
    "\n",
    "#fix the axis ratio\n",
    "#here are two possible options \n",
    "axarr[0].set_aspect('equal')     #make the ratio of the tickunits equal, a bit counter intuitive \n",
    "axarr[1].set_aspect(np.pi)       #make a square bysetting the aspect to be the ratio of the tick unit range "
   ]
  },
  {
   "cell_type": "code",
   "execution_count": null,
   "metadata": {},
   "outputs": [],
   "source": [
    "#adjust the size of the figure \n",
    "fig = plt.figure(figsize=(6,6))\n",
    "\n",
    "plt.plot(x, y, label='y(x)=sin(x)')  #add a label to the line \n",
    "plt.plot(x, z, label='y(x)=cos(x)')  #add a label to the second line \n",
    "plt.plot(x, w, label='y(x)=sin(4x)') #add a label to the third line \n",
    "plt.plot(x, v, label='y(x)=cos(4x)') #add a label to the fourth line \n",
    "\n",
    "plt.xlabel('x')\n",
    "plt.ylabel('y(x)')\n",
    "plt.xlim([0, 2*np.pi])\n",
    "plt.ylim([-1.2, 1.2])\n",
    "plt.legend(loc=1, framealpha= .6)\n",
    "\n",
    "plt.gca().set_aspect(np.pi/1.2)\n",
    "\n",
    "plt.savefig('1st-plot-with-legend.png',bbox_inches=\"tight\",dpi=600)"
   ]
  },
  {
   "cell_type": "code",
   "execution_count": null,
   "metadata": {},
   "outputs": [],
   "source": []
  }
 ],
 "metadata": {
  "kernelspec": {
   "display_name": "Python 3",
   "language": "python",
   "name": "python3"
  },
  "language_info": {
   "codemirror_mode": {
    "name": "ipython",
    "version": 3
   },
   "file_extension": ".py",
   "mimetype": "text/x-python",
   "name": "python",
   "nbconvert_exporter": "python",
   "pygments_lexer": "ipython3",
   "version": "3.6.5"
  }
 },
 "nbformat": 4,
 "nbformat_minor": 2
}
